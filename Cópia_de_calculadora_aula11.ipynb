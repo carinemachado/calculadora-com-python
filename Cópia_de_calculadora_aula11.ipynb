{
  "nbformat": 4,
  "nbformat_minor": 0,
  "metadata": {
    "colab": {
      "provenance": [],
      "authorship_tag": "ABX9TyPtlQt2bZEuHB9Iw3iRrSDV",
      "include_colab_link": true
    },
    "kernelspec": {
      "name": "python3",
      "display_name": "Python 3"
    },
    "language_info": {
      "name": "python"
    }
  },
  "cells": [
    {
      "cell_type": "markdown",
      "metadata": {
        "id": "view-in-github",
        "colab_type": "text"
      },
      "source": [
        "<a href=\"https://colab.research.google.com/github/carinemachado/calculadora-com-python/blob/main/C%C3%B3pia_de_calculadora_aula11.ipynb\" target=\"_parent\"><img src=\"https://colab.research.google.com/assets/colab-badge.svg\" alt=\"Open In Colab\"/></a>"
      ]
    },
    {
      "cell_type": "markdown",
      "source": [
        "Crie uma calculadora simples que pode realizar operações de adição, subtração, multiplicação e divisão. O programa deve pedir ao usuário para inserir dois números e a operação desejada. Em seguida, exiba o resultado.\n"
      ],
      "metadata": {
        "id": "j58rKOilrkLN"
      }
    },
    {
      "cell_type": "markdown",
      "source": [
        "idealmente como função -> def\n",
        "input -> para o usuário inserir dados\n",
        "escolher a operação/tomada de decisão/alternativa -> if.. elif.. else\n",
        "tipo de dados dos números: float\n"
      ],
      "metadata": {
        "id": "nzDjxI3YsEFk"
      }
    },
    {
      "cell_type": "code",
      "source": [
        "def calculadora():\n",
        " num1 = float(input(\"Digite o primeiro número\"));\n",
        " num2 = float(input(\"Digite o segundo número\"));\n",
        " operacao = input(\"Escolha a operação: +, -, *, /\")\n",
        "\n",
        " if(operacao == \"+\"):\n",
        "  soma = num1 + num2;\n",
        "  print(soma);\n",
        " elif(operacao ==\"-\"):\n",
        "  sub = num1 - num2;\n",
        "  print(sub)\n",
        "  mult = num1 * num2;\n",
        "  print(mult)\n",
        " elif (operacao == \"/\"):\n",
        "  if (num2 != 0):\n",
        "   div = num1 / num2;\n",
        "   print(div)\n",
        "  else:\n",
        "    print (\"Digitar número diferente de zero\")\n",
        "    return calculadora()\n",
        " else: print(\"Operação inválida\")\n",
        "\n",
        "\n"
      ],
      "metadata": {
        "id": "7woqWkxPtk1G"
      },
      "execution_count": null,
      "outputs": []
    },
    {
      "cell_type": "code",
      "source": [
        "calculadora()\n",
        "\n"
      ],
      "metadata": {
        "colab": {
          "base_uri": "https://localhost:8080/"
        },
        "id": "4eQhP8YBs3Q-",
        "outputId": "9a6dc75f-833e-43ed-c2ce-4cd45fef0784"
      },
      "execution_count": null,
      "outputs": [
        {
          "output_type": "stream",
          "name": "stdout",
          "text": [
            "Digite o primeiro número10\n",
            "Digite o segundo número5\n",
            "Escolha a operação: +, -, *, /,\n",
            "Operação inválida\n"
          ]
        }
      ]
    }
  ]
}